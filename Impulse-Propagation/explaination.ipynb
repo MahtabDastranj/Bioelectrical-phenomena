{
 "cells": [
  {
   "metadata": {},
   "cell_type": "markdown",
   "source": "# Impluse Propogation and Core-Conductor model",
   "id": "65dcffac13621644"
  },
  {
   "metadata": {},
   "cell_type": "markdown",
   "source": [
    "- $r_i$ : Intracellular resistance per unit length ($Ω/cm$)\n",
    "\n",
    "- $r_e$ : Extracellular resistance per unit length ($Ω/cm$)\n",
    "\n",
    "- $\\frac{\\partial V_m}{\\partial x}$ : Spatial derivative of the transmembrane potential along the fiber axis.\n",
    "\n",
    "$$\\frac{\\partial \\Phi_{e}}{\\partial x} = -I_{e}r_{e}$$\n",
    "\n",
    "$$\\frac{\\partial \\Phi_{i}}{\\partial x} = -I_{i}r_{i}$$\n",
    "\n",
    "Since $\\phi_{i} - \\phi_{e} = V_m$ we can declare that:\n",
    "$$I_{i} =  - \\frac{\\partial V_{m}}{\\partial x} r_{i}$$\n",
    "$$I_{e} = \\frac{\\partial V_{m}}{\\partial x} r_{e}$$\n",
    "\n",
    "**What happens if extracellular resistivity is 0:**\n",
    "- $r_e$ is the extracellular resistance per unit length ($r_e = R_e / A)$\n",
    "This implies that the extracellular current $I_e$ would theoretically become infinite because there would be no resistance to limit current flow in the extracellular space. However, this situation is not physically meaningful, as:\n",
    "\n",
    "- It violates the principle of conservation of energy.\n",
    "- Perfectly zero resistance does not exist in real systems."
   ],
   "id": "e112b9f444b9e41"
  },
  {
   "metadata": {},
   "cell_type": "markdown",
   "source": " ## The transmembrane current per unit length, $i_m$ :",
   "id": "4f445c6cbabe1317"
  },
  {
   "metadata": {},
   "cell_type": "markdown",
   "source": [
    "$$I_m = \\frac{i_m}{2\\pi a}$$\n",
    "- $a$ : radius of membrane\n",
    "- $i_m(x, t) = \\frac{1}{r_e + r_i} \\frac{\\partial^2 V_m}{\\partial x^2}$ "
   ],
   "id": "792d756f329f47a4"
  }
 ],
 "metadata": {
  "kernelspec": {
   "display_name": "Python 3",
   "language": "python",
   "name": "python3"
  },
  "language_info": {
   "codemirror_mode": {
    "name": "ipython",
    "version": 2
   },
   "file_extension": ".py",
   "mimetype": "text/x-python",
   "name": "python",
   "nbconvert_exporter": "python",
   "pygments_lexer": "ipython2",
   "version": "2.7.6"
  }
 },
 "nbformat": 4,
 "nbformat_minor": 5
}
