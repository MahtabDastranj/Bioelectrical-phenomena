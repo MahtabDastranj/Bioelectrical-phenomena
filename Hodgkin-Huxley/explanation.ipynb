{
 "cells": [
  {
   "metadata": {},
   "cell_type": "markdown",
   "source": "# 1. H-H Implementation",
   "id": "31edd14092f2bcff"
  },
  {
   "metadata": {},
   "cell_type": "markdown",
   "source": [
    "Here are the mathematical calculations and formulas done for this code:\n",
    "### A. Obtaining V_m\n",
    "$$ \\frac{{dV_m}}{{dt}} = \\frac{1}{C} \\left[ I_{\\text{stim}} - \\sum_i \\left( I_i^{\\text{ch}} + I_i^{\\text{pump}} \\right) \\right] $$\n",
    "$$ \\frac{V_m(t + \\Delta t) - V_m(t)}{\\Delta t} = -\\frac{1}{C} I_{\\text{tot}}(t) $$\n",
    "$$ V_m(t + \\Delta t) = V_m(t) - \\frac{\\Delta t}{C} I_{\\text{tot}}(t) $$\n",
    "Where $I_{\\text{ion}}(t)$ is obtained as:\n",
    "$$\n",
    "I_{\\text{ion}}(t) = g_{\\text{K}}(t, V_{\\text{m}}) (V_{\\text{m}} - E_{\\text{K}}) + g_{\\text{Na}}(t, V_{\\text{m}}) (V_{\\text{m}} - E_{\\text{Na}}) + g_{\\text{L}}(t, V_{\\text{m}}) (V_{\\text{m}} - E_{\\text{L}})\n",
    "$$\n",
    "In the context of the Hodgkin-Huxley model, $g$ represents the conductance of an ion channel, specifically the conductance for potassium $g_{\\text{K}}$, sodium $g_{\\text{Na}}$, and the leak channels $g_{\\text{L}}$. Conductance is a measure of how easily ions can flow through a channel and is dependent on both the channel properties and the state of its gating variables.\n",
    "\n",
    "### B. Ion's conductance:\n",
    "\n",
    "#### 1. Sodium $Na^+$ Conductance, $g_{\\text{Na}}$:\n",
    "\n",
    "The sodium conductance $g_{\\text{Na}}$ is given by:\n",
    "\n",
    "$$g_{\\text{Na}} = \\bar{g}_{\\text{Na}} \\cdot m^3 \\cdot h$$\n",
    "\n",
    "where:\n",
    "- $\\bar{g}_{\\text{Na}}$ is the maximum sodium conductance (a constant),\n",
    "- $m$ and $h$ are gating variables that represent the activation and inactivation of sodium channels, respectively,\n",
    "- $m$ and $h$ are functions of the membrane potential $V_m$ and time $t$.\n",
    "\n",
    "The $m^3$ term indicates that **three $m$ -gates must be open for the sodium channel to allow ion flow, while $h$ is an inactivation variable that can \"close\" the channel even if $m$ -gates are open**.\n",
    "\n",
    "#### 2. Potassium $K^+$ Conductance, $g_{\\text{K}}$:\n",
    "\n",
    "The potassium conductance $g_{\\text{K}}$ is given by:\n",
    "\n",
    "$$g_{\\text{K}} = \\bar{g}_{\\text{K}} \\cdot n^4$$\n",
    "\n",
    "where:\n",
    "- $\\bar{g}_{\\text{K}}$ is the maximum potassium conductance (a constant),\n",
    "- $n$ is a gating variable that represents the activation of potassium channels,\n",
    "- $n$ is also a function of the membrane potential $V_m$ and time $t$.\n",
    "\n",
    "The $n^4$ term indicates that **four $n$ -gates must be open for the potassium channel to allow ion flow**.\n",
    "\n",
    "#### 3. Leak Conductance, $g_{\\text{L}}$:\n",
    "\n",
    "The leak conductance $g_{\\text{L}}$ is typically a constant that represents ion leakage across the membrane, independent of gating variables. Thus:\n",
    "\n",
    "$$g_{\\text{L}} = \\bar{g}_{\\text{L}}$$\n",
    "\n",
    "where $\\bar{g}_{\\text{L}}$ is the fixed leak conductance.\n",
    "\n",
    "### C. Gating Variables $m$, $h$, and $n$:\n",
    "\n",
    "- $n$: Probability of potassium channel activation.\n",
    "  current.\n",
    "- $m$: Probability of sodium channel activation.\n",
    "- $ℎ$: Probability of sodium channel inactivation.\n",
    "\n",
    "The dynamics of these probabilities are governed by first-order differential equations that depend on rate constants $\\alpha$ and $\\beta$. The rate constants define the transition rates of each gating variable between open and closed states: \n",
    "- $\\alpha_x$: Rate of opening for a gating variable $x$.\n",
    "- $\\beta_x$: Rate of closing for a gating variable $x$.\n",
    "These rate constants vary as functions of the membrane potential $V_m$, as channels are voltage-sensitive.\n",
    "#### 1. Functional forms of $\\alpha$ and $\\beta$:\n",
    "- For $n$ (Potassium activation):\n",
    "$$\n",
    "\\alpha_n(V_m) = \\frac{0.01 (V_m + 55)}{1 - e^{-(V_m + 55) / 10}}\n",
    "$$\n",
    "\n",
    "$$\n",
    "\\beta_n(V_m) = 0.125 e^{-(V_m + 65) / 80}\n",
    "$$\n",
    "- For $m$ (Sodium activation):\n",
    "$$\n",
    "\\alpha_m(V_m) = \\frac{0.1 (V_m + 40)}{1 - e^{-(V_m + 40) / 10}}\n",
    "$$\n",
    "\n",
    "$$\n",
    "\\beta_m(V_m) = 4 e^{-(V_m + 65) / 18}\n",
    "$$\n",
    "- For $h$ (Sodium inactivation):\n",
    "$$\n",
    "\\alpha_h(V_m) = 0.07 e^{-(V_m + 65) / 20}\n",
    "$$\n",
    "\n",
    "$$\n",
    "\\beta_h(V_m) = \\frac{1}{1 + e^{-(V_m + 35) / 10}}\n",
    "$$\n",
    "#### 2. Updating Variables:\n",
    "$$\n",
    "\\frac{dm}{dt} = \\alpha_m (1 - m) - \\beta_m m\n",
    "$$\n",
    "$$\n",
    "\\frac{dh}{dt} = \\alpha_h (1 - h) - \\beta_h h\n",
    "$$\n",
    "$$\n",
    "\\frac{dn}{dt} = \\alpha_n (1 - n) - \\beta_n n\n",
    "$$\n",
    "\n",
    "where $\\alpha$ and $\\beta$ are rate constants that depend on the membrane potential $V_m$ and describe the probability of each gate opening or closing.\n",
    "\n",
    "The rate constants for each gating variable are obtained experimentally and are defined as functions of $V_m$."
   ],
   "id": "64e36324b88bde4b"
  },
  {
   "metadata": {},
   "cell_type": "markdown",
   "source": "## 2. Finding the amplitude and Vm threshold for action potential",
   "id": "425c01e3068dbf37"
  },
  {
   "metadata": {},
   "cell_type": "markdown",
   "source": [
    "Threshold Search:\n",
    "\n",
    "![AP](\"images/Screenshot 2024-11-10 183333.png\")\n",
    "\n",
    "We incrementally increase the stimulus amplitude.\n",
    "For each amplitude, the model simulates the membrane potential over time.\n",
    " When the depolarization reaches about -55 mV a neuron will fire an action potential. This is the threshold. If the neuron does not reach this critical threshold level, then no action potential will fire\n",
    "\n",
    "Just-Above-Threshold Check:\n",
    "\n",
    "After detecting an action potential, we test the stimulus amplitude decreased by 1 μA/cm². If this reduced amplitude fails to generate an action potential, the original amplitude is confirmed as \"just-above-threshold.\""
   ],
   "id": "eac3a78648c963c6"
  },
  {
   "metadata": {},
   "cell_type": "markdown",
   "source": "## 3. Time to peak",
   "id": "f0cfde3de63dbe96"
  },
  {
   "metadata": {},
   "cell_type": "markdown",
   "source": [
    "Peak detection:\n",
    "\n",
    "For each stimulus we check each maximum $V_m$ value after the stimulus starts. The initialized maximum peak for each stimulus is set to a very little negative amount $-\\infty$ and compared to $V_m$ during each time step. The amount is set to be updated if it finds a higher $V_m$. The time when $V_m$ reaches this maximum is recorded as the time to peak."
   ],
   "id": "56f84b39d1df18cd"
  },
  {
   "metadata": {},
   "cell_type": "markdown",
   "source": "## 4. Time to return to initial conditions",
   "id": "3be55d884d6a5c2b"
  },
  {
   "metadata": {},
   "cell_type": "markdown",
   "source": [
    "As stated in the question:\n",
    "\n",
    "Stable Envelope:\n",
    "\n",
    "- $V_m$ must be within ±0.1mV of the initial membrane potential.\n",
    "- $n, m, h$ must be within ±0.01 of their initial values.\n",
    "To check stability:\n",
    "\n",
    "After the stimulus ends, check each time step for stability conditions, then record the time when stability is achieved."
   ],
   "id": "f9d436a17a874669"
  },
  {
   "metadata": {},
   "cell_type": "markdown",
   "source": "## 5.  Leakage $gL$",
   "id": "d4e0a75aeb318429"
  },
  {
   "metadata": {},
   "cell_type": "markdown",
   "source": [
    "**Adjusting $E_L$**\n",
    "- With the reduced leakage conductance $g_L = 0.01 mS/cm²$, calculate the new leakage potential $E_L$ to keep the resting membrane potential constant.\n",
    "\n",
    "- At resting potential $V_{\\text{rest}}$: \n",
    "$$I_K + I_{\\text{Na}} + I_L = 0$$ \n",
    "$$g_K(V_{\\text{rest}} - E_K) + g_{\\text{Na}}(V_{\\text{rest}} - E_{\\text{Na}}) + g_L(V_{\\text{rest}} - E_L) = 0$$\n",
    "$$E_L = \\frac{g_K(V_{\\text{rest}} - E_K) + g_{\\text{Na}}(V_{\\text{rest}} - E_{\\text{Na}})}{g_L} + V_{\\text{rest}$$"
   ],
   "id": "35bc4a4b47860710"
  },
  {
   "metadata": {},
   "cell_type": "markdown",
   "source": "## 6. Evaluation of m,n, h gates, Vm, K and Na behavior over time",
   "id": "fe45158cec111cd1"
  },
  {
   "metadata": {},
   "cell_type": "markdown",
   "source": [
    "The probable number of open channels after time $t$ for $m, n and h$ gates are:\n",
    "For gate $x$:\n",
    "$$X_o(t) = \\frac{\\alpha}{\\alpha + \\beta} X(1 - e^{-(\\alpha + \\beta)t})$$\n",
    "with the time constant $\\tau_x$ = $\\frac{1}{\\alpha + \\beta}$\n"
   ],
   "id": "63760785032cdcb9"
  },
  {
   "metadata": {},
   "cell_type": "markdown",
   "source": "## 7. Time interval T required for the cell to take before going through an action potential just after getting out of one",
   "id": "fc843a03dae3938d"
  },
  {
   "metadata": {},
   "cell_type": "markdown",
   "source": [
    "To find the smallest time interval T that allows a second stimulus to generate another action potential, we’ll explore the refractory period of the neuron model. The Hodgkin-Huxley model exhibits two types of refractory behavior:\n",
    "\n",
    "1. Absolute Refractory Period:\n",
    "\n",
    "    During this period, immediately following an action potential, no new action potential can be triggered, regardless of the stimulus strength. This period corresponds to the time required for sodium channels to reset after depolarization.\n",
    "\n",
    "2. Relative Refractory Period:\n",
    "\n",
    "    After the absolute refractory period, a second action potential can be triggered, but it requires a stronger stimulus than the first one. As T (the interval between the first and second stimulus) increases, *the required current amplitude 'I' decreases until it returns to the normal threshold level*."
   ],
   "id": "7307527064190774"
  },
  {
   "metadata": {},
   "cell_type": "markdown",
   "source": "## 8. Dependency of threshold amplitude for action potential to waveform",
   "id": "4b452374a379e92c"
  },
  {
   "metadata": {},
   "cell_type": "markdown",
   "source": [
    "**Key Characteristics Influencing Action Potential Generation**\n",
    "- Threshold Dependence on Charge Transfer: In the HH model, action potential generation requires sufficient charge transfer across the membrane to depolarize it to the threshold level. This means that different waveforms can meet the threshold through various combinations of amplitude and duration.\n",
    "\n",
    "- Time-Dependent Ion Channel Kinetics: The kinetics of sodium (Na⁺) and potassium (K⁺) channels depend on the membrane potential over time. Different waveforms influence the rate at which ion channels open and close, affecting how quickly the neuron reaches an action potential threshold. For instance:\n",
    "\n",
    "    - A square pulse delivers a quick, consistent current, rapidly depolarizing the membrane and triggering the channels.\n",
    "    - A sawtooth waveform gradually increases in amplitude, potentially allowing time for K⁺ channels to counteract Na⁺ entry, *possibly requiring a higher current amplitude to reach the threshold*.\n",
    "    - A sinusoidal waveform provides alternating periods of depolarization and hyperpolarization, which may or may not reach a high enough peak to consistently activate the Na⁺ channels *unless the frequency and amplitude are precisely tuned*.\n",
    "- Comparative Physical Concept: Threshold as Energy Barrier: The concept is analogous to crossing an energy barrier in physics. Just as an object needs enough energy (or momentum) to overcome a barrier, the cell’s membrane potential must exceed a threshold “barrier” to generate an action potential. Different waveforms have distinct \"energy profiles\" over time, influencing their ability to cross this threshold."
   ],
   "id": "7a51b34d35a34782"
  }
 ],
 "metadata": {
  "kernelspec": {
   "display_name": "Python 3",
   "language": "python",
   "name": "python3"
  },
  "language_info": {
   "codemirror_mode": {
    "name": "ipython",
    "version": 2
   },
   "file_extension": ".py",
   "mimetype": "text/x-python",
   "name": "python",
   "nbconvert_exporter": "python",
   "pygments_lexer": "ipython2",
   "version": "2.7.6"
  }
 },
 "nbformat": 4,
 "nbformat_minor": 5
}
